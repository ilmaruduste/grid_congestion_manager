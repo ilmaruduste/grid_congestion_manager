{
 "nbformat": 4,
 "nbformat_minor": 2,
 "metadata": {
  "language_info": {
   "name": "python",
   "codemirror_mode": {
    "name": "ipython",
    "version": 3
   },
   "version": "3.7.4-final"
  },
  "orig_nbformat": 2,
  "file_extension": ".py",
  "mimetype": "text/x-python",
  "name": "python",
  "npconvert_exporter": "python",
  "pygments_lexer": "ipython3",
  "version": 3,
  "kernelspec": {
   "name": "python3",
   "display_name": "Python 3"
  }
 },
 "cells": [
  {
   "cell_type": "code",
   "execution_count": 3,
   "metadata": {},
   "outputs": [],
   "source": [
    "import os\n",
    "import sys\n",
    "import pandas as pd\n",
    "import numpy as np\n",
    "from plotnine import *"
   ]
  },
  {
   "cell_type": "code",
   "execution_count": 9,
   "metadata": {},
   "outputs": [
    {
     "data": {
      "text/plain": "'/Users/ilmaruduste/opt/anaconda3/lib/python3.7/site-packages'"
     },
     "execution_count": 9,
     "metadata": {},
     "output_type": "execute_result"
    }
   ],
   "source": [
    "os.getcwd()"
   ]
  },
  {
   "cell_type": "code",
   "execution_count": 13,
   "metadata": {},
   "outputs": [],
   "source": [
    "#os.chdir('/Users/ilmaruduste/School/Masinõpe')\n",
    "os.chdir('/Users/ilmaruduste/School/Masinõpe')"
   ]
  },
  {
   "cell_type": "code",
   "execution_count": 14,
   "metadata": {},
   "outputs": [
    {
     "data": {
      "text/plain": "'/Users/ilmaruduste/School/Masinõpe'"
     },
     "execution_count": 14,
     "metadata": {},
     "output_type": "execute_result"
    }
   ],
   "source": [
    "os.getcwd()"
   ]
  },
  {
   "cell_type": "code",
   "execution_count": 16,
   "metadata": {},
   "outputs": [
    {
     "data": {
      "text/html": "<div>\n<style scoped>\n    .dataframe tbody tr th:only-of-type {\n        vertical-align: middle;\n    }\n\n    .dataframe tbody tr th {\n        vertical-align: top;\n    }\n\n    .dataframe thead th {\n        text-align: right;\n    }\n</style>\n<table border=\"1\" class=\"dataframe\">\n  <thead>\n    <tr style=\"text-align: right;\">\n      <th></th>\n      <th>Unnamed: 0</th>\n      <th>address</th>\n      <th>cadaster</th>\n      <th>latitude</th>\n      <th>longitude</th>\n      <th>x</th>\n      <th>y</th>\n      <th>max_current</th>\n    </tr>\n  </thead>\n  <tbody>\n    <tr>\n      <th>0</th>\n      <td>134</td>\n      <td>2, Aardla, Ropka, Tartu linn, Tartu, Tartu lin...</td>\n      <td>79511:003:0022</td>\n      <td>58.355604</td>\n      <td>26.730697</td>\n      <td>6471601.92</td>\n      <td>659795.21</td>\n      <td>200</td>\n    </tr>\n    <tr>\n      <th>1</th>\n      <td>136</td>\n      <td>66, Peetri, Raadi-Kruusamäe, Tartu linn, Tartu...</td>\n      <td>79512:038:0009</td>\n      <td>58.390402</td>\n      <td>26.730959</td>\n      <td>6475470.49</td>\n      <td>659684.48</td>\n      <td>160</td>\n    </tr>\n    <tr>\n      <th>2</th>\n      <td>177</td>\n      <td>64, Metshaldja, Ihaste, Tartu linn, Tartu, Tar...</td>\n      <td>79517:014:0024</td>\n      <td>58.352182</td>\n      <td>26.777857</td>\n      <td>6471306.96</td>\n      <td>662602.18</td>\n      <td>160</td>\n    </tr>\n    <tr>\n      <th>3</th>\n      <td>88</td>\n      <td>11, Risti, Raadi-Kruusamäe, Tartu linn, Tartu,...</td>\n      <td>79512:029:0011</td>\n      <td>58.393000</td>\n      <td>26.724314</td>\n      <td>6475718.16</td>\n      <td>659262.11</td>\n      <td>60</td>\n    </tr>\n    <tr>\n      <th>4</th>\n      <td>94</td>\n      <td>8, Kristalli, Ränilinn, Tartu linn, Tartu, Tar...</td>\n      <td>79505:005:0079</td>\n      <td>58.349762</td>\n      <td>26.683184</td>\n      <td>6470844.17</td>\n      <td>657076.56</td>\n      <td>160</td>\n    </tr>\n  </tbody>\n</table>\n</div>",
      "text/plain": "   Unnamed: 0                                            address  \\\n0         134  2, Aardla, Ropka, Tartu linn, Tartu, Tartu lin...   \n1         136  66, Peetri, Raadi-Kruusamäe, Tartu linn, Tartu...   \n2         177  64, Metshaldja, Ihaste, Tartu linn, Tartu, Tar...   \n3          88  11, Risti, Raadi-Kruusamäe, Tartu linn, Tartu,...   \n4          94  8, Kristalli, Ränilinn, Tartu linn, Tartu, Tar...   \n\n         cadaster   latitude  longitude           x          y  max_current  \n0  79511:003:0022  58.355604  26.730697  6471601.92  659795.21          200  \n1  79512:038:0009  58.390402  26.730959  6475470.49  659684.48          160  \n2  79517:014:0024  58.352182  26.777857  6471306.96  662602.18          160  \n3  79512:029:0011  58.393000  26.724314  6475718.16  659262.11           60  \n4  79505:005:0079  58.349762  26.683184  6470844.17  657076.56          160  "
     },
     "execution_count": 16,
     "metadata": {},
     "output_type": "execute_result"
    }
   ],
   "source": [
    "grid_locations = pd.read_csv('grid_congestion_data/grid_locations.csv')\n",
    "grid_locations.head()"
   ]
  },
  {
   "cell_type": "code",
   "execution_count": 17,
   "metadata": {},
   "outputs": [
    {
     "data": {
      "text/html": "<div>\n<style scoped>\n    .dataframe tbody tr th:only-of-type {\n        vertical-align: middle;\n    }\n\n    .dataframe tbody tr th {\n        vertical-align: top;\n    }\n\n    .dataframe thead th {\n        text-align: right;\n    }\n</style>\n<table border=\"1\" class=\"dataframe\">\n  <thead>\n    <tr style=\"text-align: right;\">\n      <th></th>\n      <th>Unnamed: 0</th>\n      <th>address</th>\n      <th>cadaster</th>\n      <th>latitude</th>\n      <th>longitude</th>\n      <th>x</th>\n      <th>y</th>\n    </tr>\n  </thead>\n  <tbody>\n    <tr>\n      <th>0</th>\n      <td>0</td>\n      <td>78, Tiigi, Kesklinn, Tartu linn, Tartu, Tartu ...</td>\n      <td>79506:006:0001</td>\n      <td>58.373603</td>\n      <td>26.710675</td>\n      <td>6473552.48</td>\n      <td>658596.39</td>\n    </tr>\n    <tr>\n      <th>1</th>\n      <td>1</td>\n      <td>30, Veski, Kesklinn, Tartu linn, Tartu, Tartu ...</td>\n      <td>79507:021:0003</td>\n      <td>58.378190</td>\n      <td>26.711309</td>\n      <td>6474073.17</td>\n      <td>658582.03</td>\n    </tr>\n    <tr>\n      <th>2</th>\n      <td>2</td>\n      <td>Heino Elleri nimeline Tartu Muusikakool, 15, L...</td>\n      <td>79507:019:0002</td>\n      <td>58.380050</td>\n      <td>26.717865</td>\n      <td>6474277.29</td>\n      <td>658997.44</td>\n    </tr>\n    <tr>\n      <th>3</th>\n      <td>3</td>\n      <td>20A, Sepa, Ropka tööstusrajoon, Tartu linn, Ta...</td>\n      <td>79511:002:0027</td>\n      <td>58.350656</td>\n      <td>26.729897</td>\n      <td>6471029.11</td>\n      <td>659793.82</td>\n    </tr>\n    <tr>\n      <th>4</th>\n      <td>4</td>\n      <td>7, Tamme põik, Tammelinn, Tartu linn, Tartu, T...</td>\n      <td>79504:053:0019</td>\n      <td>58.357376</td>\n      <td>26.695822</td>\n      <td>6471706.87</td>\n      <td>657778.20</td>\n    </tr>\n  </tbody>\n</table>\n</div>",
      "text/plain": "   Unnamed: 0                                            address  \\\n0           0  78, Tiigi, Kesklinn, Tartu linn, Tartu, Tartu ...   \n1           1  30, Veski, Kesklinn, Tartu linn, Tartu, Tartu ...   \n2           2  Heino Elleri nimeline Tartu Muusikakool, 15, L...   \n3           3  20A, Sepa, Ropka tööstusrajoon, Tartu linn, Ta...   \n4           4  7, Tamme põik, Tammelinn, Tartu linn, Tartu, T...   \n\n         cadaster   latitude  longitude           x          y  \n0  79506:006:0001  58.373603  26.710675  6473552.48  658596.39  \n1  79507:021:0003  58.378190  26.711309  6474073.17  658582.03  \n2  79507:019:0002  58.380050  26.717865  6474277.29  658997.44  \n3  79511:002:0027  58.350656  26.729897  6471029.11  659793.82  \n4  79504:053:0019  58.357376  26.695822  6471706.87  657778.20  "
     },
     "execution_count": 17,
     "metadata": {},
     "output_type": "execute_result"
    }
   ],
   "source": [
    "public_chargers = pd.read_csv('grid_congestion_data/public_chargers_locations.csv')\n",
    "public_chargers.head()"
   ]
  },
  {
   "cell_type": "code",
   "execution_count": 18,
   "metadata": {},
   "outputs": [
    {
     "data": {
      "text/html": "<div>\n<style scoped>\n    .dataframe tbody tr th:only-of-type {\n        vertical-align: middle;\n    }\n\n    .dataframe tbody tr th {\n        vertical-align: top;\n    }\n\n    .dataframe thead th {\n        text-align: right;\n    }\n</style>\n<table border=\"1\" class=\"dataframe\">\n  <thead>\n    <tr style=\"text-align: right;\">\n      <th></th>\n      <th>Unnamed: 0_x</th>\n      <th>address_x</th>\n      <th>cadaster</th>\n      <th>latitude_x</th>\n      <th>longitude_x</th>\n      <th>x_x</th>\n      <th>y_x</th>\n      <th>max_current</th>\n      <th>Unnamed: 0_y</th>\n      <th>address_y</th>\n      <th>latitude_y</th>\n      <th>longitude_y</th>\n      <th>x_y</th>\n      <th>y_y</th>\n    </tr>\n  </thead>\n  <tbody>\n  </tbody>\n</table>\n</div>",
      "text/plain": "Empty DataFrame\nColumns: [Unnamed: 0_x, address_x, cadaster, latitude_x, longitude_x, x_x, y_x, max_current, Unnamed: 0_y, address_y, latitude_y, longitude_y, x_y, y_y]\nIndex: []"
     },
     "execution_count": 18,
     "metadata": {},
     "output_type": "execute_result"
    }
   ],
   "source": [
    "charger_grid_join = pd.merge(grid_locations, public_chargers, how='inner', on = 'cadaster')\n",
    "charger_grid_join.head()"
   ]
  },
  {
   "cell_type": "code",
   "execution_count": 19,
   "metadata": {},
   "outputs": [
    {
     "data": {
      "text/html": "<div>\n<style scoped>\n    .dataframe tbody tr th:only-of-type {\n        vertical-align: middle;\n    }\n\n    .dataframe tbody tr th {\n        vertical-align: top;\n    }\n\n    .dataframe thead th {\n        text-align: right;\n    }\n</style>\n<table border=\"1\" class=\"dataframe\">\n  <thead>\n    <tr style=\"text-align: right;\">\n      <th></th>\n      <th>Unnamed: 0</th>\n      <th>address</th>\n      <th>cadaster</th>\n      <th>latitude</th>\n      <th>longitude</th>\n      <th>x</th>\n      <th>y</th>\n    </tr>\n  </thead>\n  <tbody>\n    <tr>\n      <th>0</th>\n      <td>0</td>\n      <td>1, Kvissentali põik, Ülejõe, Tartu linn, Tartu...</td>\n      <td>79514:037:0033</td>\n      <td>58.406210</td>\n      <td>26.706300</td>\n      <td>6477173.28</td>\n      <td>658139.66</td>\n    </tr>\n    <tr>\n      <th>1</th>\n      <td>1</td>\n      <td>28b/1, Orava, Raadi-Kruusamäe, Tartu linn, Tar...</td>\n      <td>79512:036:0020</td>\n      <td>58.389311</td>\n      <td>26.737114</td>\n      <td>6475347.92</td>\n      <td>660042.39</td>\n    </tr>\n    <tr>\n      <th>2</th>\n      <td>2</td>\n      <td>16, Alevi, Karlova, Tartu linn, Tartu, Tartu l...</td>\n      <td>79508:016:0001</td>\n      <td>58.362547</td>\n      <td>26.726161</td>\n      <td>6472365.82</td>\n      <td>659521.12</td>\n    </tr>\n    <tr>\n      <th>3</th>\n      <td>3</td>\n      <td>37, Voolu, Variku, Tartu linn, Tartu, Tartu li...</td>\n      <td>79509:019:0003</td>\n      <td>58.346618</td>\n      <td>26.702650</td>\n      <td>6470513.21</td>\n      <td>658227.79</td>\n    </tr>\n    <tr>\n      <th>4</th>\n      <td>4</td>\n      <td>12, Ilmatsalu, Veeriku, Tartu linn, Tartu, Tar...</td>\n      <td>79502:006:0095</td>\n      <td>58.375785</td>\n      <td>26.690146</td>\n      <td>6473716.85</td>\n      <td>657353.49</td>\n    </tr>\n  </tbody>\n</table>\n</div>",
      "text/plain": "   Unnamed: 0                                            address  \\\n0           0  1, Kvissentali põik, Ülejõe, Tartu linn, Tartu...   \n1           1  28b/1, Orava, Raadi-Kruusamäe, Tartu linn, Tar...   \n2           2  16, Alevi, Karlova, Tartu linn, Tartu, Tartu l...   \n3           3  37, Voolu, Variku, Tartu linn, Tartu, Tartu li...   \n4           4  12, Ilmatsalu, Veeriku, Tartu linn, Tartu, Tar...   \n\n         cadaster   latitude  longitude           x          y  \n0  79514:037:0033  58.406210  26.706300  6477173.28  658139.66  \n1  79512:036:0020  58.389311  26.737114  6475347.92  660042.39  \n2  79508:016:0001  58.362547  26.726161  6472365.82  659521.12  \n3  79509:019:0003  58.346618  26.702650  6470513.21  658227.79  \n4  79502:006:0095  58.375785  26.690146  6473716.85  657353.49  "
     },
     "execution_count": 19,
     "metadata": {},
     "output_type": "execute_result"
    }
   ],
   "source": [
    "ev_home = pd.read_csv('grid_congestion_data/ev_home_locations.csv')\n",
    "ev_home.head()"
   ]
  },
  {
   "cell_type": "code",
   "execution_count": 21,
   "metadata": {},
   "outputs": [
    {
     "data": {
      "text/html": "<div>\n<style scoped>\n    .dataframe tbody tr th:only-of-type {\n        vertical-align: middle;\n    }\n\n    .dataframe tbody tr th {\n        vertical-align: top;\n    }\n\n    .dataframe thead th {\n        text-align: right;\n    }\n</style>\n<table border=\"1\" class=\"dataframe\">\n  <thead>\n    <tr style=\"text-align: right;\">\n      <th></th>\n      <th>Unnamed: 0_x</th>\n      <th>address_x</th>\n      <th>cadaster</th>\n      <th>latitude_x</th>\n      <th>longitude_x</th>\n      <th>x_x</th>\n      <th>y_x</th>\n      <th>max_current</th>\n      <th>Unnamed: 0_y</th>\n      <th>address_y</th>\n      <th>latitude_y</th>\n      <th>longitude_y</th>\n      <th>x_y</th>\n      <th>y_y</th>\n    </tr>\n  </thead>\n  <tbody>\n  </tbody>\n</table>\n</div>",
      "text/plain": "Empty DataFrame\nColumns: [Unnamed: 0_x, address_x, cadaster, latitude_x, longitude_x, x_x, y_x, max_current, Unnamed: 0_y, address_y, latitude_y, longitude_y, x_y, y_y]\nIndex: []"
     },
     "execution_count": 21,
     "metadata": {},
     "output_type": "execute_result"
    }
   ],
   "source": [
    "home_grid_join = pd.merge(grid_locations, ev_home, how='inner', on = 'cadaster')\n",
    "home_grid_join.head()"
   ]
  }
 ]
}