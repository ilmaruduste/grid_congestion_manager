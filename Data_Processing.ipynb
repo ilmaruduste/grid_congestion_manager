{
 "cells": [
  {
   "cell_type": "code",
   "execution_count": 1,
   "metadata": {},
   "outputs": [],
   "source": [
    "import os\n",
    "import sys\n",
    "import pandas as pd\n",
    "import numpy as np\n",
    "import matplotlib.pyplot as plt"
   ]
  },
  {
   "cell_type": "code",
   "execution_count": 2,
   "metadata": {},
   "outputs": [
    {
     "data": {
      "text/plain": [
       "'/home/joonas/Documents/P29/grid_congestion_manager-main'"
      ]
     },
     "execution_count": 2,
     "metadata": {},
     "output_type": "execute_result"
    }
   ],
   "source": [
    "os.getcwd()"
   ]
  },
  {
   "cell_type": "code",
   "execution_count": 3,
   "metadata": {},
   "outputs": [],
   "source": [
    "os.chdir('/home/joonas/Documents/P29/grid_congestion_manager-main')\n",
    "#os.chdir('/Users/ilmaruduste/School/Masinõpe') #Ilmar\n",
    "#os.chdir('E:\\ML\\grid_congestion_manager') #Sille PC"
   ]
  },
  {
   "cell_type": "code",
   "execution_count": 4,
   "metadata": {},
   "outputs": [],
   "source": [
    "grid_load = pd.read_csv('grid_congestion_data/gridload.csv')\n",
    "grid_locations = pd.read_csv('grid_congestion_data/grid_locations.csv')\n",
    "ev_home = pd.read_csv('grid_congestion_data/ev_home_locations.csv')\n",
    "public_chargers = pd.read_csv('grid_congestion_data/public_chargers_locations.csv')\n",
    "ev_history = pd.read_csv('grid_congestion_data/ev_history.csv')\n",
    "cars = pd.read_csv('grid_congestion_data/ev_models.csv')"
   ]
  },
  {
   "cell_type": "markdown",
   "metadata": {},
   "source": [
    "### CLUSTERING"
   ]
  },
  {
   "cell_type": "code",
   "execution_count": 5,
   "metadata": {},
   "outputs": [],
   "source": [
    "# find eucleidian distance between points (x1, y1) and (x2, y2)\n",
    "def x_y_distance(x1, y1, x2, y2):\n",
    "    return np.sqrt((x1-x2)**2 + (y1-y2)**2) \n",
    "\n",
    "# method adds closest grid cadaster to dataframe\n",
    "def closest_grid_cadaster(location, grid):\n",
    "    closest_grids = [] # list used to update dataframe later\n",
    "    \n",
    "    # iter over all locations\n",
    "    for l in location.iterrows():\n",
    "        # temp variables\n",
    "        min_distance = None\n",
    "        closest_grid = None\n",
    "        \n",
    "        # find distance from location l to all grids g\n",
    "        for g in grid.iterrows():\n",
    "            distance = x_y_distance(l[1].x, l[1].y, g[1].x, g[1].y)\n",
    "            \n",
    "            # if closer than previous closest grid, then overwrite\n",
    "            if min_distance == None or distance < min_distance:\n",
    "                min_distance = distance\n",
    "                closest_grid = g[1].cadaster\n",
    "                \n",
    "        closest_grids.append(closest_grid)\n",
    "    \n",
    "    #update dataframe\n",
    "    location.loc[:,\"closest_grid_cadaster\"] = closest_grids\n",
    "    \n",
    "closest_grid_cadaster(ev_home, grid_locations)\n",
    "closest_grid_cadaster(public_chargers, grid_locations)"
   ]
  },
  {
   "cell_type": "markdown",
   "metadata": {},
   "source": [
    "### SUBSTATION LOADS PROCESSING"
   ]
  },
  {
   "cell_type": "code",
   "execution_count": 6,
   "metadata": {},
   "outputs": [],
   "source": [
    "#calculating baseloads\n",
    "\n",
    "cadasters = grid_load['cadaster'].unique()\n",
    "baseloads = dict()\n",
    "\n",
    "for cadaster in cadasters: # lets make a empty dict with correct structure\n",
    "    one_day_loads = np.zeros((24)) #24 hours in a day\n",
    "    baseloads[cadaster] = one_day_loads\n",
    "\n",
    "for index, row in grid_load.iterrows(): #insert correct elements into dict\n",
    "    \n",
    "    baseloads[row['cadaster']][row['time']-1] = row['baseload']\n"
   ]
  },
  {
   "cell_type": "code",
   "execution_count": 7,
   "metadata": {},
   "outputs": [],
   "source": [
    "#make dict with different car model's chargning powers\n",
    "charging_powers = dict()\n",
    "for index, row in cars.iterrows():\n",
    "    \n",
    "    charging_powers[row['models']] = row['charge_power']"
   ]
  },
  {
   "cell_type": "code",
   "execution_count": 8,
   "metadata": {},
   "outputs": [],
   "source": [
    "#make dict with loads from ev charging\n",
    "ev_loads = dict()\n",
    "for cadaster in cadasters: \n",
    "    one_day_loads = np.zeros((24)) #24 hours in a day\n",
    "    ev_loads[cadaster] = one_day_loads\n",
    "\n",
    "for index, row in ev_history.iterrows(): #scan over history\n",
    "    if row['connected'] == True and row['charge_need'] != 0: #check if car is connected and needs charge\n",
    "        \n",
    "        cadaster_of_interest = row['cadaster'] #have to find out whats the closest substation for this cadaster\n",
    "        \n",
    "        for index, public_row in public_chargers.iterrows(): #scan public chargers\n",
    "            if public_row['cadaster'] == cadaster_of_interest:\n",
    "                ev_loads[public_row['closest_grid_cadaster']][row['time']-1] += charging_powers[row['model']]\n",
    "                break     \n",
    "        \n",
    "        for index, home_row in ev_home.iterrows(): #scan home chargers\n",
    "            if public_row['cadaster'] == cadaster_of_interest:\n",
    "                ev_loads[home_row['closest_grid_cadaster']][row['time']-1] += charging_powers[row['model']]\n",
    "                break"
   ]
  },
  {
   "cell_type": "code",
   "execution_count": 9,
   "metadata": {},
   "outputs": [],
   "source": [
    "power_limits = dict()\n",
    "\n",
    "for index, row in grid_locations.iterrows():\n",
    "    power_limits[row['cadaster']] = row['max_current']"
   ]
  },
  {
   "cell_type": "markdown",
   "metadata": {},
   "source": [
    "### LEGEND"
   ]
  },
  {
   "cell_type": "code",
   "execution_count": 10,
   "metadata": {},
   "outputs": [],
   "source": [
    "#cadasters #all cadasters for substations\n",
    "#baseloads #dictionary for baseloads for each substation (key: cadaster, value: 24 element array)\n",
    "#ev_loads #dictionary for ev charging loads for each substation (key: cadaster, value: 24 element array)\n",
    "#power_limits #dictionary for power limits for each substation (key: cadaster, value: 24 element array)"
   ]
  },
  {
   "cell_type": "markdown",
   "metadata": {},
   "source": [
    "### EXAMPLE"
   ]
  },
  {
   "cell_type": "code",
   "execution_count": 23,
   "metadata": {},
   "outputs": [
    {
     "data": {
      "image/png": "[encoded data removed]",
      "text/plain": [
       "<Figure size 432x288 with 1 Axes>"
      ]
     },
     "metadata": {
      "needs_background": "light"
     },
     "output_type": "display_data"
    },
    {
     "name": "stdout",
     "output_type": "stream",
     "text": [
      "lol, see on alajaam on juba eos lappes\n"
     ]
    }
   ],
   "source": [
    "plt.plot(baseloads['79507:022:0008'], label = 'base')\n",
    "plt.xlabel('hour')\n",
    "plt.ylabel('kW')\n",
    "plt.title('Substation 79507:022:0008')\n",
    "plt.plot(baseloads['79507:022:0008']+ev_loads['79507:022:0008'], label = 'base+ev')\n",
    "plt.axhline(y=power_limits['79507:022:0008'], color='r', linestyle='--',label = 'substations max power limit')\n",
    "plt.legend()\n",
    "plt.show()\n",
    "print('lol, see on alajaam on juba eos lappes')"
   ]
  },
  {
   "cell_type": "code",
   "execution_count": null,
   "metadata": {},
   "outputs": [],
   "source": []
  }
 ],
 "metadata": {
  "kernelspec": {
   "display_name": "Python 3",
   "language": "python",
   "name": "python3"
  },
  "language_info": {
   "codemirror_mode": {
    "name": "ipython",
    "version": 3
   },
   "file_extension": ".py",
   "mimetype": "text/x-python",
   "name": "python",
   "nbconvert_exporter": "python",
   "pygments_lexer": "ipython3",
   "version": "3.8.5"
  }
 },
 "nbformat": 4,
 "nbformat_minor": 4
}
